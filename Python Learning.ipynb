{
 "cells": [
  {
   "cell_type": "markdown",
   "metadata": {
    "colab_type": "text",
    "id": "T24IFDx9eEDl"
   },
   "source": [
    "##  Data Types\n",
    "\n",
    "**Determines  type of object:**"
   ]
  },
  {
   "cell_type": "markdown",
   "metadata": {
    "colab": {},
    "colab_type": "code",
    "id": "x9sHm7_IeEDn",
    "outputId": "e6db7bbf-3e91-4ee7-a9c8-68915385166a"
   },
   "source": [
    "**You Have to give these code snippets under print() function .... .**"
   ]
  },
  {
   "cell_type": "code",
   "execution_count": 3,
   "metadata": {},
   "outputs": [
    {
     "data": {
      "text/plain": [
       "int"
      ]
     },
     "execution_count": 3,
     "metadata": {},
     "output_type": "execute_result"
    }
   ],
   "source": [
    "type(2)"
   ]
  },
  {
   "cell_type": "code",
   "execution_count": 4,
   "metadata": {
    "colab": {},
    "colab_type": "code",
    "id": "Ma4Z9qNgeEDw",
    "outputId": "4362f5f7-f733-4b15-f9e1-fb7f1d139495"
   },
   "outputs": [
    {
     "data": {
      "text/plain": [
       "float"
      ]
     },
     "execution_count": 4,
     "metadata": {},
     "output_type": "execute_result"
    }
   ],
   "source": [
    "type(2.0)"
   ]
  },
  {
   "cell_type": "code",
   "execution_count": 5,
   "metadata": {
    "colab": {},
    "colab_type": "code",
    "id": "AdpJxQZ0eED4",
    "outputId": "67ca6f88-91c1-48ac-be57-cbe1a2ddcd4c"
   },
   "outputs": [
    {
     "data": {
      "text/plain": [
       "str"
      ]
     },
     "execution_count": 5,
     "metadata": {},
     "output_type": "execute_result"
    }
   ],
   "source": [
    "type('two')"
   ]
  },
  {
   "cell_type": "code",
   "execution_count": 6,
   "metadata": {
    "colab": {},
    "colab_type": "code",
    "id": "rAnX9fZOeED_",
    "outputId": "679632c2-f650-4fbd-f6e9-5856da7f1501"
   },
   "outputs": [
    {
     "data": {
      "text/plain": [
       "bool"
      ]
     },
     "execution_count": 6,
     "metadata": {},
     "output_type": "execute_result"
    }
   ],
   "source": [
    "type(True)"
   ]
  },
  {
   "cell_type": "code",
   "execution_count": 7,
   "metadata": {
    "colab": {},
    "colab_type": "code",
    "id": "rEO7Td0UeEEG",
    "outputId": "09a435c1-08a0-43fe-a796-eb1ca0c9cd46"
   },
   "outputs": [
    {
     "data": {
      "text/plain": [
       "NoneType"
      ]
     },
     "execution_count": 7,
     "metadata": {},
     "output_type": "execute_result"
    }
   ],
   "source": [
    "type(None)"
   ]
  },
  {
   "cell_type": "markdown",
   "metadata": {
    "colab_type": "text",
    "id": "bLuRmd__eEEN"
   },
   "source": [
    "**To Check the object's Data Type:**"
   ]
  },
  {
   "cell_type": "code",
   "execution_count": 8,
   "metadata": {
    "colab": {},
    "colab_type": "code",
    "id": "hj2d6-XAeEER",
    "outputId": "f451674e-07fa-44e5-b254-ca9f7734e16d"
   },
   "outputs": [
    {
     "data": {
      "text/plain": [
       "False"
      ]
     },
     "execution_count": 8,
     "metadata": {},
     "output_type": "execute_result"
    }
   ],
   "source": [
    "isinstance(2.0, int)"
   ]
  },
  {
   "cell_type": "code",
   "execution_count": 10,
   "metadata": {
    "colab": {},
    "colab_type": "code",
    "id": "W5bchQwseEEZ",
    "outputId": "fd8c2d59-ceef-47cd-e138-8bc94cc235ff"
   },
   "outputs": [
    {
     "data": {
      "text/plain": [
       "True"
      ]
     },
     "execution_count": 10,
     "metadata": {},
     "output_type": "execute_result"
    }
   ],
   "source": [
    "isinstance(2.0, (int, float))   # two vaules can be given as tuple to identify any of those can be true."
   ]
  },
  {
   "cell_type": "markdown",
   "metadata": {
    "colab_type": "text",
    "id": "yIp4-y9NeEEf"
   },
   "source": [
    "**Object Type conversion:**"
   ]
  },
  {
   "cell_type": "code",
   "execution_count": 11,
   "metadata": {
    "colab": {},
    "colab_type": "code",
    "id": "tiO8z8vEeEEi",
    "outputId": "9bf4bbbe-9e39-4b77-b787-240c1fce6300"
   },
   "outputs": [
    {
     "data": {
      "text/plain": [
       "2.0"
      ]
     },
     "execution_count": 11,
     "metadata": {},
     "output_type": "execute_result"
    }
   ],
   "source": [
    "float(2)"
   ]
  },
  {
   "cell_type": "code",
   "execution_count": 12,
   "metadata": {
    "colab": {},
    "colab_type": "code",
    "id": "DEXB0YqDeEEp",
    "outputId": "daf6e89b-9ccc-44d3-9763-c5e40ef3bea2"
   },
   "outputs": [
    {
     "data": {
      "text/plain": [
       "2"
      ]
     },
     "execution_count": 12,
     "metadata": {},
     "output_type": "execute_result"
    }
   ],
   "source": [
    "int(2.9)"
   ]
  },
  {
   "cell_type": "code",
   "execution_count": 13,
   "metadata": {
    "colab": {},
    "colab_type": "code",
    "id": "CoFizbQZeEEy",
    "outputId": "6bdeeb16-d07b-4a5d-be1c-80b238f0a769"
   },
   "outputs": [
    {
     "data": {
      "text/plain": [
       "'2.9'"
      ]
     },
     "execution_count": 13,
     "metadata": {},
     "output_type": "execute_result"
    }
   ],
   "source": [
    "str(2.9)"
   ]
  },
  {
   "cell_type": "markdown",
   "metadata": {
    "colab_type": "text",
    "id": "ojomNdwXeEE4"
   },
   "source": [
    "**Zero, `None`, and empty containers or boxes are always `False` Values**"
   ]
  },
  {
   "cell_type": "code",
   "execution_count": 19,
   "metadata": {
    "colab": {},
    "colab_type": "code",
    "id": "Grp_HxxXeEE8",
    "outputId": "037114a2-c3b9-4ac3-ad05-665287e10545"
   },
   "outputs": [
    {
     "data": {
      "text/plain": [
       "False"
      ]
     },
     "execution_count": 19,
     "metadata": {},
     "output_type": "execute_result"
    }
   ],
   "source": [
    "bool(0)"
   ]
  },
  {
   "cell_type": "code",
   "execution_count": 20,
   "metadata": {
    "colab": {},
    "colab_type": "code",
    "id": "BbE7uEyReEFF",
    "outputId": "f81578a8-338f-401b-80ed-84f371e3c14c"
   },
   "outputs": [
    {
     "data": {
      "text/plain": [
       "False"
      ]
     },
     "execution_count": 20,
     "metadata": {},
     "output_type": "execute_result"
    }
   ],
   "source": [
    "bool(None)"
   ]
  },
  {
   "cell_type": "code",
   "execution_count": 21,
   "metadata": {
    "colab": {},
    "colab_type": "code",
    "id": "ZVDxC2QAeEFM",
    "outputId": "5604ca75-a21a-4399-9938-6a50f536c052"
   },
   "outputs": [
    {
     "data": {
      "text/plain": [
       "False"
      ]
     },
     "execution_count": 21,
     "metadata": {},
     "output_type": "execute_result"
    }
   ],
   "source": [
    "bool('')    # empty string"
   ]
  },
  {
   "cell_type": "code",
   "execution_count": 22,
   "metadata": {
    "colab": {},
    "colab_type": "code",
    "id": "0yX6NIspeEFV",
    "outputId": "6084db1a-4def-4e63-cf48-fb19d8656a68"
   },
   "outputs": [
    {
     "data": {
      "text/plain": [
       "False"
      ]
     },
     "execution_count": 22,
     "metadata": {},
     "output_type": "execute_result"
    }
   ],
   "source": [
    "bool([])    # empty list"
   ]
  },
  {
   "cell_type": "code",
   "execution_count": 23,
   "metadata": {
    "colab": {},
    "colab_type": "code",
    "id": "PlF-johaeEFa",
    "outputId": "9b6d7545-59f4-40ba-d110-0a0a43c5f1e0"
   },
   "outputs": [
    {
     "data": {
      "text/plain": [
       "False"
      ]
     },
     "execution_count": 23,
     "metadata": {},
     "output_type": "execute_result"
    }
   ],
   "source": [
    "bool({})    # empty dictionary"
   ]
  },
  {
   "cell_type": "markdown",
   "metadata": {
    "colab_type": "text",
    "id": "8of-vRZWeEFf"
   },
   "source": [
    "**Non-empty containers and non-zeros are  `True`:**"
   ]
  },
  {
   "cell_type": "code",
   "execution_count": 0,
   "metadata": {
    "colab": {},
    "colab_type": "code",
    "id": "ILHnbPgreEFj",
    "outputId": "c6c7e434-3fe8-4efe-ccd5-18cd7ce9f337"
   },
   "outputs": [
    {
     "data": {
      "text/plain": [
       "True"
      ]
     },
     "execution_count": 22,
     "metadata": {
      "tags": []
     },
     "output_type": "execute_result"
    }
   ],
   "source": [
    "bool(2)"
   ]
  },
  {
   "cell_type": "code",
   "execution_count": 0,
   "metadata": {
    "colab": {},
    "colab_type": "code",
    "id": "dbEV8ShqeEFq",
    "outputId": "dd7875f4-ec0d-4aaa-834b-f38375c9dbd0"
   },
   "outputs": [
    {
     "data": {
      "text/plain": [
       "True"
      ]
     },
     "execution_count": 23,
     "metadata": {
      "tags": []
     },
     "output_type": "execute_result"
    }
   ],
   "source": [
    "bool('two')"
   ]
  },
  {
   "cell_type": "code",
   "execution_count": 0,
   "metadata": {
    "colab": {},
    "colab_type": "code",
    "id": "knB8nFqUeEF0",
    "outputId": "cfa34f02-83d8-43b8-ff96-320f6c92e669"
   },
   "outputs": [
    {
     "data": {
      "text/plain": [
       "True"
      ]
     },
     "execution_count": 24,
     "metadata": {
      "tags": []
     },
     "output_type": "execute_result"
    }
   ],
   "source": [
    "bool([2])"
   ]
  },
  {
   "cell_type": "markdown",
   "metadata": {
    "colab_type": "text",
    "id": "U_N9Ep_weEF9"
   },
   "source": [
    "##  Math"
   ]
  },
  {
   "cell_type": "code",
   "execution_count": 0,
   "metadata": {
    "colab": {},
    "colab_type": "code",
    "id": "iKg0UcpseEGL",
    "outputId": "e26885bf-5f36-4547-9666-572153839f45"
   },
   "outputs": [
    {
     "data": {
      "text/plain": [
       "14"
      ]
     },
     "execution_count": 25,
     "metadata": {
      "tags": []
     },
     "output_type": "execute_result"
    }
   ],
   "source": [
    "10 + 4"
   ]
  },
  {
   "cell_type": "code",
   "execution_count": 0,
   "metadata": {
    "colab": {},
    "colab_type": "code",
    "id": "idhsPgVheEGa",
    "outputId": "0b94b215-3f73-4622-a313-9d6e41bcab6a"
   },
   "outputs": [
    {
     "data": {
      "text/plain": [
       "6"
      ]
     },
     "execution_count": 26,
     "metadata": {
      "tags": []
     },
     "output_type": "execute_result"
    }
   ],
   "source": [
    "10 - 4"
   ]
  },
  {
   "cell_type": "code",
   "execution_count": 0,
   "metadata": {
    "colab": {},
    "colab_type": "code",
    "id": "5ecihyKaeEGg",
    "outputId": "c158ebff-f912-487f-af64-4989e322b6da"
   },
   "outputs": [
    {
     "data": {
      "text/plain": [
       "40"
      ]
     },
     "execution_count": 27,
     "metadata": {
      "tags": []
     },
     "output_type": "execute_result"
    }
   ],
   "source": [
    "10 * 4"
   ]
  },
  {
   "cell_type": "code",
   "execution_count": 0,
   "metadata": {
    "colab": {},
    "colab_type": "code",
    "id": "NJ6cxqrweEGm",
    "outputId": "43580474-eabf-4454-9f1d-47166fce668f"
   },
   "outputs": [
    {
     "data": {
      "text/plain": [
       "10000"
      ]
     },
     "execution_count": 28,
     "metadata": {
      "tags": []
     },
     "output_type": "execute_result"
    }
   ],
   "source": [
    "10 ** 4    # exponent"
   ]
  },
  {
   "cell_type": "code",
   "execution_count": 24,
   "metadata": {
    "colab": {},
    "colab_type": "code",
    "id": "0wQLTOTBeEGq",
    "outputId": "05db9d2b-bbc2-45c7-ee6c-a6d89ea6aae7"
   },
   "outputs": [
    {
     "data": {
      "text/plain": [
       "1"
      ]
     },
     "execution_count": 24,
     "metadata": {},
     "output_type": "execute_result"
    }
   ],
   "source": [
    "5 % 4      # modulo for remainders"
   ]
  },
  {
   "cell_type": "code",
   "execution_count": 25,
   "metadata": {
    "colab": {},
    "colab_type": "code",
    "id": "Xe2HWeeYeEGw",
    "outputId": "2850b3cb-aa89-4267-af09-12f0c9801d1e",
    "scrolled": true
   },
   "outputs": [
    {
     "data": {
      "text/plain": [
       "2.5"
      ]
     },
     "execution_count": 25,
     "metadata": {},
     "output_type": "execute_result"
    }
   ],
   "source": [
    "10 / 4     #(int)/(int) =(int)    #true Division"
   ]
  },
  {
   "cell_type": "code",
   "execution_count": 26,
   "metadata": {
    "colab": {},
    "colab_type": "code",
    "id": "B0sxAk5SeEG2",
    "outputId": "2c40e742-fa9b-40ec-953f-9723d8c9a61c",
    "scrolled": true
   },
   "outputs": [
    {
     "data": {
      "text/plain": [
       "2.5"
      ]
     },
     "execution_count": 26,
     "metadata": {},
     "output_type": "execute_result"
    }
   ],
   "source": [
    "10 / float(4)  #(int)/(float) = (float)"
   ]
  },
  {
   "cell_type": "code",
   "execution_count": 27,
   "metadata": {
    "colab": {},
    "colab_type": "code",
    "id": "GKPVFXgNeEG_",
    "outputId": "3c9ccbbd-34f0-4b1d-d386-f0e581b9b918"
   },
   "outputs": [
    {
     "data": {
      "text/plain": [
       "2"
      ]
     },
     "execution_count": 27,
     "metadata": {},
     "output_type": "execute_result"
    }
   ],
   "source": [
    "10 // 4    # floor division"
   ]
  },
  {
   "cell_type": "markdown",
   "metadata": {
    "colab_type": "text",
    "id": "ujw8NY4beEHD"
   },
   "source": [
    "##  Comparisons and Boolean Operations"
   ]
  },
  {
   "cell_type": "markdown",
   "metadata": {
    "colab_type": "text",
    "id": "sYVqbLuneEHH"
   },
   "source": [
    "**Assignment statement:**"
   ]
  },
  {
   "cell_type": "code",
   "execution_count": 29,
   "metadata": {
    "colab": {},
    "colab_type": "code",
    "id": "rjRkfJg1eEHI"
   },
   "outputs": [],
   "source": [
    "x = 5"
   ]
  },
  {
   "cell_type": "markdown",
   "metadata": {
    "colab_type": "text",
    "id": "i88pfzk6eEHM"
   },
   "source": [
    "**Comparisons:**"
   ]
  },
  {
   "cell_type": "code",
   "execution_count": 30,
   "metadata": {
    "colab": {},
    "colab_type": "code",
    "id": "Lo-a1ZtSeEHO",
    "outputId": "38dc895b-01b9-4a06-8a3b-605a7693d3fa"
   },
   "outputs": [
    {
     "data": {
      "text/plain": [
       "True"
      ]
     },
     "execution_count": 30,
     "metadata": {},
     "output_type": "execute_result"
    }
   ],
   "source": [
    "x > 3    #means compared with assigned value..."
   ]
  },
  {
   "cell_type": "code",
   "execution_count": 0,
   "metadata": {
    "colab": {},
    "colab_type": "code",
    "id": "kPCVVO2LeEHR",
    "outputId": "c3dfac3d-7945-4e53-e7f8-dc11fd9b5db9"
   },
   "outputs": [
    {
     "data": {
      "text/plain": [
       "True"
      ]
     },
     "execution_count": 5,
     "metadata": {
      "tags": []
     },
     "output_type": "execute_result"
    }
   ],
   "source": [
    "x >= 3"
   ]
  },
  {
   "cell_type": "code",
   "execution_count": 0,
   "metadata": {
    "colab": {},
    "colab_type": "code",
    "id": "qk2IV8YMeEHV",
    "outputId": "2b5b2fc2-6c33-4e43-ffa3-c123106f504d"
   },
   "outputs": [
    {
     "data": {
      "text/plain": [
       "True"
      ]
     },
     "execution_count": 6,
     "metadata": {
      "tags": []
     },
     "output_type": "execute_result"
    }
   ],
   "source": [
    "x != 3"
   ]
  },
  {
   "cell_type": "code",
   "execution_count": 0,
   "metadata": {
    "colab": {},
    "colab_type": "code",
    "id": "BJnQR3oseEHY",
    "outputId": "22ce039a-79c4-441d-d403-ba5996de6a1f"
   },
   "outputs": [
    {
     "data": {
      "text/plain": [
       "True"
      ]
     },
     "execution_count": 7,
     "metadata": {
      "tags": []
     },
     "output_type": "execute_result"
    }
   ],
   "source": [
    "x == 5"
   ]
  },
  {
   "cell_type": "markdown",
   "metadata": {
    "colab_type": "text",
    "id": "sd78gl3yeEHb"
   },
   "source": [
    "**Boolean operations:**"
   ]
  },
  {
   "cell_type": "code",
   "execution_count": 0,
   "metadata": {
    "colab": {},
    "colab_type": "code",
    "id": "P9I3OcZPeEHc",
    "outputId": "2e4a3dad-f12f-463c-fd97-746abb25ea68"
   },
   "outputs": [
    {
     "data": {
      "text/plain": [
       "True"
      ]
     },
     "execution_count": 8,
     "metadata": {
      "tags": []
     },
     "output_type": "execute_result"
    }
   ],
   "source": [
    "5 > 3 and 6 > 3     #in c and is written as &&"
   ]
  },
  {
   "cell_type": "code",
   "execution_count": 31,
   "metadata": {
    "colab": {},
    "colab_type": "code",
    "id": "GFQpRpJEeEHe",
    "outputId": "58b19976-e0fc-41f2-cc68-0ca296d2516d"
   },
   "outputs": [
    {
     "data": {
      "text/plain": [
       "True"
      ]
     },
     "execution_count": 31,
     "metadata": {},
     "output_type": "execute_result"
    }
   ],
   "source": [
    "5 > 3 or 5 < 3  #or written as ||"
   ]
  },
  {
   "cell_type": "code",
   "execution_count": 32,
   "metadata": {
    "colab": {},
    "colab_type": "code",
    "id": "5VdJCpMIeEHi",
    "outputId": "b356ab6b-3d10-430d-a560-8e6c0d333589"
   },
   "outputs": [
    {
     "data": {
      "text/plain": [
       "True"
      ]
     },
     "execution_count": 32,
     "metadata": {},
     "output_type": "execute_result"
    }
   ],
   "source": [
    "not False"
   ]
  },
  {
   "cell_type": "code",
   "execution_count": 34,
   "metadata": {
    "colab": {},
    "colab_type": "code",
    "id": "EUcAb1pHeEHl",
    "outputId": "5fb81bee-4f53-405e-b763-dff2695ae0d6"
   },
   "outputs": [
    {
     "data": {
      "text/plain": [
       "True"
      ]
     },
     "execution_count": 34,
     "metadata": {},
     "output_type": "execute_result"
    }
   ],
   "source": [
    "False or not False and True     # order: not --> and --> or"
   ]
  },
  {
   "cell_type": "markdown",
   "metadata": {
    "colab_type": "text",
    "id": "KCmUjuiZeEIF"
   },
   "source": [
    "## Lists\n",
    "\n",
    "- **List:** ordered, iterable, mutable, can contain multiple data types"
   ]
  },
  {
   "cell_type": "code",
   "execution_count": 53,
   "metadata": {
    "colab": {},
    "colab_type": "code",
    "id": "_VdXPS8JeEIH"
   },
   "outputs": [],
   "source": [
    "# create an empty list (two ways)\n",
    "empty_list = []\n",
    "empty_list = list()"
   ]
  },
  {
   "cell_type": "code",
   "execution_count": 72,
   "metadata": {
    "colab": {},
    "colab_type": "code",
    "id": "X_J_-qZReEIN"
   },
   "outputs": [],
   "source": [
    "# create a list\n",
    "li = [\"str\",'MD', 'DM', 'MMDD']"
   ]
  },
  {
   "cell_type": "markdown",
   "metadata": {
    "colab_type": "text",
    "id": "ZGFIkKbpeEIW"
   },
   "source": [
    "**indexing of list:**"
   ]
  },
  {
   "cell_type": "code",
   "execution_count": 73,
   "metadata": {
    "colab": {},
    "colab_type": "code",
    "id": "j0Al5FSfeEIX",
    "outputId": "fd414c8e-2b4e-4c3e-fd80-b15f5ce6c372"
   },
   "outputs": [
    {
     "data": {
      "text/plain": [
       "'str'"
      ]
     },
     "execution_count": 73,
     "metadata": {},
     "output_type": "execute_result"
    }
   ],
   "source": [
    "# print element 0\n",
    "li[0]"
   ]
  },
  {
   "cell_type": "code",
   "execution_count": 74,
   "metadata": {
    "colab": {},
    "colab_type": "code",
    "id": "eDSswVqgeEIc",
    "outputId": "1bcc281e-b3ef-426e-ae45-8b86efdf2bda"
   },
   "outputs": [
    {
     "data": {
      "text/plain": [
       "4"
      ]
     },
     "execution_count": 74,
     "metadata": {},
     "output_type": "execute_result"
    }
   ],
   "source": [
    "len(li)  #length of the list"
   ]
  },
  {
   "cell_type": "markdown",
   "metadata": {
    "colab_type": "text",
    "id": "4qQzbmXeeEIf"
   },
   "source": [
    "**Modification of a list (does not return the list):**"
   ]
  },
  {
   "cell_type": "code",
   "execution_count": 75,
   "metadata": {
    "colab": {},
    "colab_type": "code",
    "id": "6cwrx46TeEIg",
    "outputId": "11d45054-5b74-4370-b07b-d23e2a95b1de"
   },
   "outputs": [
    {
     "data": {
      "text/plain": [
       "['str', 'MD', 'DM', 'MMDD', 'DDMM']"
      ]
     },
     "execution_count": 75,
     "metadata": {},
     "output_type": "execute_result"
    }
   ],
   "source": [
    "# append element to end\n",
    "li.append('DDMM')\n",
    "li"
   ]
  },
  {
   "cell_type": "code",
   "execution_count": 76,
   "metadata": {
    "colab": {},
    "colab_type": "code",
    "id": "xDPhRqpQeEIj",
    "outputId": "142302f2-5db0-47a0-9661-7d83ce6d3d75"
   },
   "outputs": [
    {
     "data": {
      "text/plain": [
       "['str', 'MD', 'DM', 'MMDD', 'DDMM', 'MM', 'DD', 'maggie']"
      ]
     },
     "execution_count": 76,
     "metadata": {},
     "output_type": "execute_result"
    }
   ],
   "source": [
    "# append multiple elements to end\n",
    "li.extend(['MM', 'DD',\"maggie\"])\n",
    "li"
   ]
  },
  {
   "cell_type": "code",
   "execution_count": 77,
   "metadata": {
    "colab": {},
    "colab_type": "code",
    "id": "sGxcBwdReEIn",
    "outputId": "a9dbb278-8363-4de3-81c6-055728954061"
   },
   "outputs": [
    {
     "data": {
      "text/plain": [
       "['nope', 'str', 'MD', 'DM', 'MMDD', 'DDMM', 'MM', 'DD', 'maggie']"
      ]
     },
     "execution_count": 77,
     "metadata": {},
     "output_type": "execute_result"
    }
   ],
   "source": [
    "# insert element at index 0 (shifts everything right)\n",
    "li.insert(0, 'nope')\n",
    "li"
   ]
  },
  {
   "cell_type": "code",
   "execution_count": 78,
   "metadata": {
    "colab": {},
    "colab_type": "code",
    "id": "m85tUs1deEIp",
    "outputId": "282ffe7d-d861-40bc-a540-74666505a625"
   },
   "outputs": [
    {
     "data": {
      "text/plain": [
       "['nope', 'str', 'MD', 'DM', 'MMDD', 'DDMM', 'MM', 'DD']"
      ]
     },
     "execution_count": 78,
     "metadata": {},
     "output_type": "execute_result"
    }
   ],
   "source": [
    "# searchs first instance and removes it\n",
    "li.remove('maggie')\n",
    "li"
   ]
  },
  {
   "cell_type": "code",
   "execution_count": 79,
   "metadata": {
    "colab": {},
    "colab_type": "code",
    "id": "U6WV9cN7eEIs",
    "outputId": "31b3fe45-163b-4ad2-b8de-41b93b7aedb0"
   },
   "outputs": [
    {
     "data": {
      "text/plain": [
       "'nope'"
      ]
     },
     "execution_count": 79,
     "metadata": {},
     "output_type": "execute_result"
    }
   ],
   "source": [
    "# remove element 0 and return it\n",
    "li.pop(0)"
   ]
  },
  {
   "cell_type": "code",
   "execution_count": 80,
   "metadata": {},
   "outputs": [
    {
     "data": {
      "text/plain": [
       "['str', 'MD', 'DM', 'MMDD', 'DDMM', 'MM', 'DD']"
      ]
     },
     "execution_count": 80,
     "metadata": {},
     "output_type": "execute_result"
    }
   ],
   "source": [
    "li"
   ]
  },
  {
   "cell_type": "code",
   "execution_count": 81,
   "metadata": {
    "colab": {},
    "colab_type": "code",
    "id": "DTkVCBZGeEIv",
    "outputId": "0d6b2028-5eaa-4062-9264-1e21ff2bedec"
   },
   "outputs": [
    {
     "data": {
      "text/plain": [
       "['MD', 'DM', 'MMDD', 'DDMM', 'MM', 'DD']"
      ]
     },
     "execution_count": 81,
     "metadata": {},
     "output_type": "execute_result"
    }
   ],
   "source": [
    "# remove element 0 (does not return it)\n",
    "del li[0]\n",
    "li"
   ]
  },
  {
   "cell_type": "code",
   "execution_count": 82,
   "metadata": {
    "colab": {},
    "colab_type": "code",
    "id": "Xi0Vk3fueEIy",
    "outputId": "baa17f70-701b-4d3f-ae7e-5eab6deca81d"
   },
   "outputs": [
    {
     "data": {
      "text/plain": [
       "['MD', 'DM', 'MMDD', 'DDMM', 'MM', '.... .']"
      ]
     },
     "execution_count": 82,
     "metadata": {},
     "output_type": "execute_result"
    }
   ],
   "source": [
    "# replace element 5\n",
    "li[5] = '.... .'\n",
    "li"
   ]
  },
  {
   "cell_type": "code",
   "execution_count": 84,
   "metadata": {
    "colab": {},
    "colab_type": "code",
    "id": "ETSQYObVeEI0",
    "outputId": "ec4ebcd9-8ba3-46ca-dc73-a06616262dd5"
   },
   "outputs": [
    {
     "data": {
      "text/plain": [
       "['MD', 'DM', 'MMDD', 'DDMM', 'MM', '.... .', '1', '2', '3']"
      ]
     },
     "execution_count": 84,
     "metadata": {},
     "output_type": "execute_result"
    }
   ],
   "source": [
    "# concatenate lists Not efficient than extend remember this asked in many interview okk ji\n",
    "cancatenated_list = li + ['1', '2', '3']\n",
    "cancatenated_list"
   ]
  },
  {
   "cell_type": "markdown",
   "metadata": {
    "colab_type": "text",
    "id": "Vr-vou0JeEI2"
   },
   "source": [
    "**Find elements in a list:**"
   ]
  },
  {
   "cell_type": "code",
   "execution_count": 85,
   "metadata": {
    "colab": {},
    "colab_type": "code",
    "id": "URK_xGGseEI3",
    "outputId": "1d38225c-dda5-4424-f23c-68388db606d8"
   },
   "outputs": [
    {
     "data": {
      "text/plain": [
       "1"
      ]
     },
     "execution_count": 85,
     "metadata": {},
     "output_type": "execute_result"
    }
   ],
   "source": [
    "# counts the number of instances\n",
    "li.count('.... .')"
   ]
  },
  {
   "cell_type": "code",
   "execution_count": 86,
   "metadata": {
    "colab": {},
    "colab_type": "code",
    "id": "gAEaWWOFeEI7",
    "outputId": "86f331ae-69de-4862-ad7d-f161fe92a1ad"
   },
   "outputs": [
    {
     "data": {
      "text/plain": [
       "3"
      ]
     },
     "execution_count": 86,
     "metadata": {},
     "output_type": "execute_result"
    }
   ],
   "source": [
    "# returns index of first instance\n",
    "li.index('DDMM')"
   ]
  },
  {
   "cell_type": "markdown",
   "metadata": {
    "colab_type": "text",
    "id": "Rn16mJ5XeEJA"
   },
   "source": [
    "**List slicing:**"
   ]
  },
  {
   "cell_type": "code",
   "execution_count": 87,
   "metadata": {
    "colab": {},
    "colab_type": "code",
    "id": "0O-73ub-eEJB"
   },
   "outputs": [],
   "source": [
    "weekdays = ['mon', 'tues', 'wed', 'thurs', 'fri']"
   ]
  },
  {
   "cell_type": "code",
   "execution_count": 88,
   "metadata": {
    "colab": {},
    "colab_type": "code",
    "id": "nfh2QbaUeEJG",
    "outputId": "c504bb22-7fa5-4558-c824-a6d455b79c31"
   },
   "outputs": [
    {
     "data": {
      "text/plain": [
       "'mon'"
      ]
     },
     "execution_count": 88,
     "metadata": {},
     "output_type": "execute_result"
    }
   ],
   "source": [
    "# element 0\n",
    "weekdays[0]"
   ]
  },
  {
   "cell_type": "code",
   "execution_count": 89,
   "metadata": {
    "colab": {},
    "colab_type": "code",
    "id": "Qhdw1uPFeEJJ",
    "outputId": "73cd742d-85b2-4a5b-9ada-89543d85319b"
   },
   "outputs": [
    {
     "data": {
      "text/plain": [
       "['mon', 'tues', 'wed']"
      ]
     },
     "execution_count": 89,
     "metadata": {},
     "output_type": "execute_result"
    }
   ],
   "source": [
    "# elements 0  to 3 ( 0 is inclusive and 3 id excludive)\n",
    "weekdays[0:3]"
   ]
  },
  {
   "cell_type": "code",
   "execution_count": 90,
   "metadata": {
    "colab": {},
    "colab_type": "code",
    "id": "LVBsaQwmeEJM",
    "outputId": "46a823f1-4825-482d-8199-72ce9b969332"
   },
   "outputs": [
    {
     "data": {
      "text/plain": [
       "['mon', 'tues', 'wed']"
      ]
     },
     "execution_count": 90,
     "metadata": {},
     "output_type": "execute_result"
    }
   ],
   "source": [
    "# starting point is  0\n",
    "weekdays[:3]"
   ]
  },
  {
   "cell_type": "code",
   "execution_count": 91,
   "metadata": {
    "colab": {},
    "colab_type": "code",
    "id": "oRFld2DkeEJU",
    "outputId": "e0de2abd-89ad-4897-c713-e604c95ab5ee"
   },
   "outputs": [
    {
     "data": {
      "text/plain": [
       "['thurs', 'fri']"
      ]
     },
     "execution_count": 91,
     "metadata": {},
     "output_type": "execute_result"
    }
   ],
   "source": [
    "# elements 3 (inclusive) to the end\n",
    "weekdays[3:]"
   ]
  },
  {
   "cell_type": "code",
   "execution_count": 92,
   "metadata": {
    "colab": {},
    "colab_type": "code",
    "id": "tYe7yDvjeEJY",
    "outputId": "9733a81e-13d3-4e4b-de10-ca5274fb320e"
   },
   "outputs": [
    {
     "data": {
      "text/plain": [
       "'fri'"
      ]
     },
     "execution_count": 92,
     "metadata": {},
     "output_type": "execute_result"
    }
   ],
   "source": [
    "# last element\n",
    "weekdays[-1]"
   ]
  },
  {
   "cell_type": "code",
   "execution_count": 93,
   "metadata": {
    "colab": {},
    "colab_type": "code",
    "id": "WusBvh6ueEJc",
    "outputId": "ac723f40-afce-4a2e-fddc-3245288d496b"
   },
   "outputs": [
    {
     "data": {
      "text/plain": [
       "['mon', 'wed', 'fri']"
      ]
     },
     "execution_count": 93,
     "metadata": {},
     "output_type": "execute_result"
    }
   ],
   "source": [
    "# (step by 2)\n",
    "weekdays[::2]"
   ]
  },
  {
   "cell_type": "code",
   "execution_count": 94,
   "metadata": {
    "colab": {},
    "colab_type": "code",
    "id": "x6NtCQj8eEJk",
    "outputId": "c8f553ba-69c4-4565-bfc5-0775c78a80f2"
   },
   "outputs": [
    {
     "data": {
      "text/plain": [
       "['fri', 'thurs', 'wed', 'tues', 'mon']"
      ]
     },
     "execution_count": 94,
     "metadata": {},
     "output_type": "execute_result"
    }
   ],
   "source": [
    "# traversing from back side (step by -1)\n",
    "weekdays[::-1]"
   ]
  },
  {
   "cell_type": "code",
   "execution_count": 95,
   "metadata": {
    "colab": {},
    "colab_type": "code",
    "id": "3IFKNnuReEJm",
    "outputId": "4e81048a-ce11-4a40-9af7-5dca54c7b4a4"
   },
   "outputs": [
    {
     "data": {
      "text/plain": [
       "['fri', 'thurs', 'wed', 'tues', 'mon']"
      ]
     },
     "execution_count": 95,
     "metadata": {},
     "output_type": "execute_result"
    }
   ],
   "source": [
    "# one simple method to traverse from back\n",
    "list(reversed(weekdays))"
   ]
  },
  {
   "cell_type": "markdown",
   "metadata": {
    "colab_type": "text",
    "id": "p18t0-mEeEJo"
   },
   "source": [
    "**Sort a list in place (modifies but does not return the list):**"
   ]
  },
  {
   "cell_type": "code",
   "execution_count": 96,
   "metadata": {
    "colab": {},
    "colab_type": "code",
    "id": "6Gayx9aIeEJp",
    "outputId": "c52317ff-d38a-4692-89ea-d26f4015b7ff"
   },
   "outputs": [
    {
     "data": {
      "text/plain": [
       "['.... .', 'DDMM', 'DM', 'MD', 'MM', 'MMDD']"
      ]
     },
     "execution_count": 96,
     "metadata": {},
     "output_type": "execute_result"
    }
   ],
   "source": [
    "li.sort()\n",
    "li"
   ]
  },
  {
   "cell_type": "code",
   "execution_count": 97,
   "metadata": {
    "colab": {},
    "colab_type": "code",
    "id": "feF2vr_8eEJr",
    "outputId": "bae7ad1c-fb6c-4576-9f34-15ca49d91ae7"
   },
   "outputs": [
    {
     "data": {
      "text/plain": [
       "['MMDD', 'MM', 'MD', 'DM', 'DDMM', '.... .']"
      ]
     },
     "execution_count": 97,
     "metadata": {},
     "output_type": "execute_result"
    }
   ],
   "source": [
    "# sort in reverse\n",
    "li.sort(reverse=True)\n",
    "li"
   ]
  },
  {
   "cell_type": "code",
   "execution_count": 98,
   "metadata": {
    "colab": {},
    "colab_type": "code",
    "id": "UbWKVEQzeEJs",
    "outputId": "3a173e92-226e-430d-9b5a-dd234877ca44"
   },
   "outputs": [
    {
     "data": {
      "text/plain": [
       "['MM', 'MD', 'DM', 'MMDD', 'DDMM', '.... .']"
      ]
     },
     "execution_count": 98,
     "metadata": {},
     "output_type": "execute_result"
    }
   ],
   "source": [
    "# sort by a key\n",
    "li.sort(key=len)\n",
    "li"
   ]
  },
  {
   "cell_type": "markdown",
   "metadata": {
    "colab_type": "text",
    "id": "rd6CpaEdeEJx"
   },
   "source": [
    "**Return a sorted list (does not modify the original list):**"
   ]
  },
  {
   "cell_type": "code",
   "execution_count": 99,
   "metadata": {
    "colab": {},
    "colab_type": "code",
    "id": "1ZYCp_lneEJy",
    "outputId": "5c23949a-ea59-4784-ada0-c0bab521a0c9"
   },
   "outputs": [
    {
     "data": {
      "text/plain": [
       "['.... .', 'DDMM', 'DM', 'MD', 'MM', 'MMDD']"
      ]
     },
     "execution_count": 99,
     "metadata": {},
     "output_type": "execute_result"
    }
   ],
   "source": [
    "sorted(li)"
   ]
  },
  {
   "cell_type": "code",
   "execution_count": 100,
   "metadata": {
    "colab": {},
    "colab_type": "code",
    "id": "3sOmjvxEeEJ0",
    "outputId": "9092e16d-6a70-49ab-cf5d-8ef749cd340a"
   },
   "outputs": [
    {
     "data": {
      "text/plain": [
       "['MMDD', 'MM', 'MD', 'DM', 'DDMM', '.... .']"
      ]
     },
     "execution_count": 100,
     "metadata": {},
     "output_type": "execute_result"
    }
   ],
   "source": [
    "sorted(li, reverse=True)"
   ]
  },
  {
   "cell_type": "code",
   "execution_count": 101,
   "metadata": {
    "colab": {},
    "colab_type": "code",
    "id": "kitQ-w-jeEJ8",
    "outputId": "f37c425e-5638-4085-9437-edba5b756e43"
   },
   "outputs": [
    {
     "data": {
      "text/plain": [
       "['MM', 'MD', 'DM', 'MMDD', 'DDMM', '.... .']"
      ]
     },
     "execution_count": 101,
     "metadata": {},
     "output_type": "execute_result"
    }
   ],
   "source": [
    "sorted(li, key=len)"
   ]
  },
  {
   "cell_type": "markdown",
   "metadata": {
    "colab_type": "text",
    "id": "XP-PbpYceEJ_"
   },
   "source": [
    "**Insert into an already sorted list, and keep it sorted:**"
   ]
  },
  {
   "cell_type": "code",
   "execution_count": 102,
   "metadata": {
    "colab": {},
    "colab_type": "code",
    "id": "Zro6cHmIeEKB",
    "outputId": "9465a7c7-2ad1-42fe-deb4-4546edb59da6"
   },
   "outputs": [
    {
     "data": {
      "text/plain": [
       "[10, 20, 30, 40, 50]"
      ]
     },
     "execution_count": 102,
     "metadata": {},
     "output_type": "execute_result"
    }
   ],
   "source": [
    "num = [10, 20, 40, 50]\n",
    "from bisect import insort  #pls learn this .. its a already tested python library \n",
    "insort(num, 30)\n",
    "num"
   ]
  },
  {
   "cell_type": "markdown",
   "metadata": {
    "colab_type": "text",
    "id": "m7a-e7_keEKE"
   },
   "source": [
    "**Object references and copies:**"
   ]
  },
  {
   "cell_type": "code",
   "execution_count": 103,
   "metadata": {
    "colab": {},
    "colab_type": "code",
    "id": "A5EbZS0weEKF"
   },
   "outputs": [],
   "source": [
    "# create a second reference to the same list\n",
    "same_num = num"
   ]
  },
  {
   "cell_type": "code",
   "execution_count": 104,
   "metadata": {
    "colab": {},
    "colab_type": "code",
    "id": "ELigdncaeEKJ",
    "outputId": "160d70e5-e40b-4202-fe01-266c1b505148"
   },
   "outputs": [
    {
     "name": "stdout",
     "output_type": "stream",
     "text": [
      "[0, 20, 30, 40, 50]\n",
      "[0, 20, 30, 40, 50]\n"
     ]
    }
   ],
   "source": [
    "# modifies both 'num' and 'same_num'\n",
    "same_num[0] = 0\n",
    "print(num)\n",
    "print(same_num)"
   ]
  },
  {
   "cell_type": "code",
   "execution_count": 105,
   "metadata": {
    "colab": {},
    "colab_type": "code",
    "id": "CgWjs2opeEKM"
   },
   "outputs": [],
   "source": [
    "# copy a list (two ways)\n",
    "new_num = num[:]\n",
    "new_num = list(num)"
   ]
  },
  {
   "cell_type": "markdown",
   "metadata": {
    "colab_type": "text",
    "id": "mOyHAUfNeEKP"
   },
   "source": [
    "**\\Checking objects:**"
   ]
  },
  {
   "cell_type": "code",
   "execution_count": 106,
   "metadata": {
    "colab": {},
    "colab_type": "code",
    "id": "MjAg2OpeeEKQ",
    "outputId": "46012a09-55e1-4679-8248-1b7eb16226fb"
   },
   "outputs": [
    {
     "data": {
      "text/plain": [
       "True"
      ]
     },
     "execution_count": 106,
     "metadata": {},
     "output_type": "execute_result"
    }
   ],
   "source": [
    "num is same_num    # checks whether they are the same object"
   ]
  },
  {
   "cell_type": "code",
   "execution_count": 107,
   "metadata": {
    "colab": {},
    "colab_type": "code",
    "id": "kmunELQEeEKV",
    "outputId": "0b88162e-8e3e-4dee-c919-110bfb585411"
   },
   "outputs": [
    {
     "data": {
      "text/plain": [
       "False"
      ]
     },
     "execution_count": 107,
     "metadata": {},
     "output_type": "execute_result"
    }
   ],
   "source": [
    "num is new_num"
   ]
  },
  {
   "cell_type": "code",
   "execution_count": 108,
   "metadata": {
    "colab": {},
    "colab_type": "code",
    "id": "xR91Eu3feEKX",
    "outputId": "93505e67-9ab1-488b-b74b-1a88033c2ce4"
   },
   "outputs": [
    {
     "data": {
      "text/plain": [
       "True"
      ]
     },
     "execution_count": 108,
     "metadata": {},
     "output_type": "execute_result"
    }
   ],
   "source": [
    "num == same_num    # checks whether they have the same contents"
   ]
  },
  {
   "cell_type": "code",
   "execution_count": 109,
   "metadata": {
    "colab": {},
    "colab_type": "code",
    "id": "Lfb09J3peEKa",
    "outputId": "a7a822c3-8ed9-4d96-a67a-b8d6f6ae9157"
   },
   "outputs": [
    {
     "data": {
      "text/plain": [
       "True"
      ]
     },
     "execution_count": 109,
     "metadata": {},
     "output_type": "execute_result"
    }
   ],
   "source": [
    "num == new_num"
   ]
  },
  {
   "cell_type": "markdown",
   "metadata": {
    "colab_type": "text",
    "id": "VQRC978ieEKe"
   },
   "source": [
    "## Tuples\n",
    "\n",
    "- **Tuple properties:** ordered, iterable, immutable, can contain multiple data types\n",
    "- Like lists, but they don't change size"
   ]
  },
  {
   "cell_type": "code",
   "execution_count": 110,
   "metadata": {
    "colab": {},
    "colab_type": "code",
    "id": "YQ_iKkq3eEKf"
   },
   "outputs": [],
   "source": [
    "# create a tuple directly\n",
    "digits = (0, 1, 'two')"
   ]
  },
  {
   "cell_type": "code",
   "execution_count": 111,
   "metadata": {
    "colab": {},
    "colab_type": "code",
    "id": "eyNLvtZueEKl"
   },
   "outputs": [],
   "source": [
    "# create a tuple from a list\n",
    "digits = tuple([0, 1, 'two'])"
   ]
  },
  {
   "cell_type": "code",
   "execution_count": 112,
   "metadata": {
    "colab": {},
    "colab_type": "code",
    "id": "DVSa7xwpeEKq"
   },
   "outputs": [],
   "source": [
    "# at last a comma is required to indicate it's a tuple\n",
    "zero = (0,)"
   ]
  },
  {
   "cell_type": "markdown",
   "metadata": {
    "colab_type": "text",
    "id": "I41-m9H5eEKv"
   },
   "source": [
    "**Examine a tuple:**"
   ]
  },
  {
   "cell_type": "code",
   "execution_count": 113,
   "metadata": {
    "colab": {},
    "colab_type": "code",
    "id": "jvs8hC6ieEKw",
    "outputId": "5310c482-7528-4051-c08d-9413ed6b4f6d"
   },
   "outputs": [
    {
     "data": {
      "text/plain": [
       "'two'"
      ]
     },
     "execution_count": 113,
     "metadata": {},
     "output_type": "execute_result"
    }
   ],
   "source": [
    "digits[2]"
   ]
  },
  {
   "cell_type": "code",
   "execution_count": 114,
   "metadata": {
    "colab": {},
    "colab_type": "code",
    "id": "ozZ9xBcqeEKz",
    "outputId": "02fe6db7-0c65-4926-db42-c2a4e970ea4f"
   },
   "outputs": [
    {
     "data": {
      "text/plain": [
       "3"
      ]
     },
     "execution_count": 114,
     "metadata": {},
     "output_type": "execute_result"
    }
   ],
   "source": [
    "len(digits)"
   ]
  },
  {
   "cell_type": "code",
   "execution_count": 115,
   "metadata": {
    "colab": {},
    "colab_type": "code",
    "id": "lKFDlIdieEK3",
    "outputId": "f4901caf-b139-44a3-dd3c-1e26eeb4d061"
   },
   "outputs": [
    {
     "data": {
      "text/plain": [
       "1"
      ]
     },
     "execution_count": 115,
     "metadata": {},
     "output_type": "execute_result"
    }
   ],
   "source": [
    "# counts the number of instances of that value\n",
    "digits.count(0)"
   ]
  },
  {
   "cell_type": "code",
   "execution_count": 116,
   "metadata": {
    "colab": {},
    "colab_type": "code",
    "id": "2WBoN0P_eELL",
    "outputId": "7bf5f210-0bb0-4791-8660-7389eea8b5ac"
   },
   "outputs": [
    {
     "data": {
      "text/plain": [
       "1"
      ]
     },
     "execution_count": 116,
     "metadata": {},
     "output_type": "execute_result"
    }
   ],
   "source": [
    "# returns the index of the first instance of that value\n",
    "digits.index(1)"
   ]
  },
  {
   "cell_type": "markdown",
   "metadata": {
    "colab_type": "text",
    "id": "whEhyFUYeELQ"
   },
   "source": [
    "**Modify a tuple:**"
   ]
  },
  {
   "cell_type": "code",
   "execution_count": 117,
   "metadata": {
    "colab": {},
    "colab_type": "code",
    "id": "a_k7fhtIeELR"
   },
   "outputs": [],
   "source": [
    "# elements of a tuple cannot be modified\n",
    "# digits[2] = 2"
   ]
  },
  {
   "cell_type": "code",
   "execution_count": 118,
   "metadata": {
    "colab": {},
    "colab_type": "code",
    "id": "Fj4BWF51eELV",
    "outputId": "52ce03e0-5965-4d1f-c2a1-92e6a5c99cf7"
   },
   "outputs": [
    {
     "data": {
      "text/plain": [
       "(0, 1, 'two', 3, 4)"
      ]
     },
     "execution_count": 118,
     "metadata": {},
     "output_type": "execute_result"
    }
   ],
   "source": [
    "# concatenate tuples\n",
    "digits = digits + (3, 4)\n",
    "digits"
   ]
  },
  {
   "cell_type": "markdown",
   "metadata": {
    "colab_type": "text",
    "id": "nkIvEeLNeELX"
   },
   "source": [
    "**Other tuple operations:**"
   ]
  },
  {
   "cell_type": "code",
   "execution_count": 119,
   "metadata": {
    "colab": {},
    "colab_type": "code",
    "id": "XDS3aYm9eELY",
    "outputId": "e4ed0805-c56e-489f-8e5d-7900cc9e8eb3"
   },
   "outputs": [
    {
     "data": {
      "text/plain": [
       "(3, 4, 3, 4)"
      ]
     },
     "execution_count": 119,
     "metadata": {},
     "output_type": "execute_result"
    }
   ],
   "source": [
    "# create a single tuple with elements repeated (also works with lists)\n",
    "(3, 4) * 2"
   ]
  },
  {
   "cell_type": "code",
   "execution_count": 120,
   "metadata": {
    "colab": {},
    "colab_type": "code",
    "id": "nOngqJeWeELa",
    "outputId": "7f0fe4d6-dd1d-4a0f-8890-dd80cf1905cd"
   },
   "outputs": [
    {
     "data": {
      "text/plain": [
       "[(10, 40), (20, 30), (20, 60)]"
      ]
     },
     "execution_count": 120,
     "metadata": {},
     "output_type": "execute_result"
    }
   ],
   "source": [
    "# sort a list of tuples\n",
    "tens = [(20, 60), (10, 40), (20, 30)]\n",
    "sorted(tens)    # sorts by first element in tuple, then second element"
   ]
  },
  {
   "cell_type": "code",
   "execution_count": 121,
   "metadata": {
    "colab": {},
    "colab_type": "code",
    "id": "MFDynoFLeELd",
    "outputId": "1b1633fa-b466-47f8-a248-2c3d5ffb0420"
   },
   "outputs": [
    {
     "name": "stdout",
     "output_type": "stream",
     "text": [
      "male\n",
      "10\n",
      "female\n"
     ]
    }
   ],
   "source": [
    "# tuple unpacking\n",
    "tup = ('male', 10, 'female')    # create a tuple\n",
    "(var1, v2, v3) = tup        # assign three values at once\n",
    "print(var1)\n",
    "print(v2)\n",
    "print(v3)"
   ]
  },
  {
   "cell_type": "markdown",
   "metadata": {
    "colab_type": "text",
    "id": "HCd9_62geELh"
   },
   "source": [
    "## Strings\n",
    "\n",
    "- **String properties:** iterable, immutable"
   ]
  },
  {
   "cell_type": "code",
   "execution_count": 122,
   "metadata": {
    "colab": {},
    "colab_type": "code",
    "id": "sS6ma5kceELh",
    "outputId": "5d51cfa0-12d2-40cc-f459-224f8c241e07"
   },
   "outputs": [
    {
     "data": {
      "text/plain": [
       "'42'"
      ]
     },
     "execution_count": 122,
     "metadata": {},
     "output_type": "execute_result"
    }
   ],
   "source": [
    "# convert another data type into a string\n",
    "s = str(42)\n",
    "s"
   ]
  },
  {
   "cell_type": "code",
   "execution_count": 123,
   "metadata": {
    "colab": {},
    "colab_type": "code",
    "id": "cCaQOSaTeELj"
   },
   "outputs": [],
   "source": [
    "# create a string directly\n",
    "s = 'I love you'"
   ]
  },
  {
   "cell_type": "markdown",
   "metadata": {
    "colab_type": "text",
    "id": "npHdKDwpeELl"
   },
   "source": [
    "**Examine a string:**"
   ]
  },
  {
   "cell_type": "code",
   "execution_count": 124,
   "metadata": {
    "colab": {},
    "colab_type": "code",
    "id": "4ZSOilRqeELl",
    "outputId": "71881c57-28a3-43f6-8bd5-0717063c4171"
   },
   "outputs": [
    {
     "data": {
      "text/plain": [
       "'I'"
      ]
     },
     "execution_count": 124,
     "metadata": {},
     "output_type": "execute_result"
    }
   ],
   "source": [
    "s[0]"
   ]
  },
  {
   "cell_type": "code",
   "execution_count": 125,
   "metadata": {
    "colab": {},
    "colab_type": "code",
    "id": "8J6-I09peELn",
    "outputId": "2cc64978-ede1-4443-dbb4-1e1dd02d8ce2"
   },
   "outputs": [
    {
     "data": {
      "text/plain": [
       "10"
      ]
     },
     "execution_count": 125,
     "metadata": {},
     "output_type": "execute_result"
    }
   ],
   "source": [
    "len(s)"
   ]
  },
  {
   "cell_type": "markdown",
   "metadata": {
    "colab_type": "text",
    "id": "cBbkohYVeELp"
   },
   "source": [
    "**String slicing is like list slicing:**"
   ]
  },
  {
   "cell_type": "code",
   "execution_count": 126,
   "metadata": {
    "colab": {},
    "colab_type": "code",
    "id": "HSltwVsueELq",
    "outputId": "2ffae286-0eee-466e-d135-943f5d82873d"
   },
   "outputs": [
    {
     "data": {
      "text/plain": [
       "'I love'"
      ]
     },
     "execution_count": 126,
     "metadata": {},
     "output_type": "execute_result"
    }
   ],
   "source": [
    "s[:6]"
   ]
  },
  {
   "cell_type": "code",
   "execution_count": 127,
   "metadata": {
    "colab": {},
    "colab_type": "code",
    "id": "ruSz5-p0eELr",
    "outputId": "ff7b561b-7d8e-4588-d29b-b81ce7009ddd"
   },
   "outputs": [
    {
     "data": {
      "text/plain": [
       "'you'"
      ]
     },
     "execution_count": 127,
     "metadata": {},
     "output_type": "execute_result"
    }
   ],
   "source": [
    "s[7:]"
   ]
  },
  {
   "cell_type": "code",
   "execution_count": 128,
   "metadata": {
    "colab": {},
    "colab_type": "code",
    "id": "xS6aR1D_eELu",
    "outputId": "9d5ed147-5546-42cc-e6b4-a63e9693bbec"
   },
   "outputs": [
    {
     "data": {
      "text/plain": [
       "'u'"
      ]
     },
     "execution_count": 128,
     "metadata": {},
     "output_type": "execute_result"
    }
   ],
   "source": [
    "s[-1]"
   ]
  },
  {
   "cell_type": "markdown",
   "metadata": {
    "colab_type": "text",
    "id": "PoSzChMCeELw"
   },
   "source": [
    "**Basic string methods (does not modify the original string):**"
   ]
  },
  {
   "cell_type": "code",
   "execution_count": 129,
   "metadata": {
    "colab": {},
    "colab_type": "code",
    "id": "-FevWIIZeELx",
    "outputId": "500182a7-1fc6-43c6-8f93-f627363c85b5"
   },
   "outputs": [
    {
     "data": {
      "text/plain": [
       "'i love you'"
      ]
     },
     "execution_count": 129,
     "metadata": {},
     "output_type": "execute_result"
    }
   ],
   "source": [
    "s.lower()"
   ]
  },
  {
   "cell_type": "code",
   "execution_count": 130,
   "metadata": {
    "colab": {},
    "colab_type": "code",
    "id": "BTrZXBRyeELz",
    "outputId": "57a15dd5-89a2-47e0-fb4f-2fb5498dd61d"
   },
   "outputs": [
    {
     "data": {
      "text/plain": [
       "'I LOVE YOU'"
      ]
     },
     "execution_count": 130,
     "metadata": {},
     "output_type": "execute_result"
    }
   ],
   "source": [
    "s.upper()"
   ]
  },
  {
   "cell_type": "code",
   "execution_count": 131,
   "metadata": {
    "colab": {},
    "colab_type": "code",
    "id": "N24_B_wveEL1",
    "outputId": "15e1dc2f-26fb-409a-e08d-65a612ad444a"
   },
   "outputs": [
    {
     "data": {
      "text/plain": [
       "True"
      ]
     },
     "execution_count": 131,
     "metadata": {},
     "output_type": "execute_result"
    }
   ],
   "source": [
    "s.startswith('I')"
   ]
  },
  {
   "cell_type": "code",
   "execution_count": 132,
   "metadata": {
    "colab": {},
    "colab_type": "code",
    "id": "tXKd580PeEL3",
    "outputId": "128863e1-8a75-4751-acdf-c1ec13a32fba"
   },
   "outputs": [
    {
     "data": {
      "text/plain": [
       "True"
      ]
     },
     "execution_count": 132,
     "metadata": {},
     "output_type": "execute_result"
    }
   ],
   "source": [
    "s.endswith('you')"
   ]
  },
  {
   "cell_type": "code",
   "execution_count": 133,
   "metadata": {
    "colab": {},
    "colab_type": "code",
    "id": "Qg_OPspKeEL4",
    "outputId": "1e84eae1-44e8-46bb-e266-aa5a2b4ca3e0"
   },
   "outputs": [
    {
     "data": {
      "text/plain": [
       "False"
      ]
     },
     "execution_count": 133,
     "metadata": {},
     "output_type": "execute_result"
    }
   ],
   "source": [
    "# checking is their any digit\n",
    "s.isdigit()"
   ]
  },
  {
   "cell_type": "code",
   "execution_count": 134,
   "metadata": {
    "colab": {},
    "colab_type": "code",
    "id": "5R4RpmFyeEL7",
    "outputId": "769bc493-444f-4a44-cb8b-a1a777dbca71"
   },
   "outputs": [
    {
     "data": {
      "text/plain": [
       "2"
      ]
     },
     "execution_count": 134,
     "metadata": {},
     "output_type": "execute_result"
    }
   ],
   "source": [
    "# returns index of first occurrence, but doesn't support regex means regular expression...\n",
    "s.find('love')"
   ]
  },
  {
   "cell_type": "code",
   "execution_count": 135,
   "metadata": {
    "colab": {},
    "colab_type": "code",
    "id": "HQ9ig_-ieEL9",
    "outputId": "a484e394-0874-4796-e106-dbd9da845b0f"
   },
   "outputs": [
    {
     "data": {
      "text/plain": [
       "-1"
      ]
     },
     "execution_count": 135,
     "metadata": {},
     "output_type": "execute_result"
    }
   ],
   "source": [
    "# returns -1 since not found\n",
    "s.find('hate')"
   ]
  },
  {
   "cell_type": "code",
   "execution_count": 136,
   "metadata": {
    "colab": {},
    "colab_type": "code",
    "id": "KrvCU6gCeEMA",
    "outputId": "a1b70f41-e681-4852-d4da-a1f773a4692b"
   },
   "outputs": [
    {
     "data": {
      "text/plain": [
       "'I love you so so much'"
      ]
     },
     "execution_count": 136,
     "metadata": {},
     "output_type": "execute_result"
    }
   ],
   "source": [
    "# replaces all instances of 'you' with 'you so so much'\n",
    "s.replace('you','you so so much')"
   ]
  },
  {
   "cell_type": "markdown",
   "metadata": {
    "colab_type": "text",
    "id": "WVAGtgGyeEMG"
   },
   "source": [
    "**Split a string:**"
   ]
  },
  {
   "cell_type": "code",
   "execution_count": 137,
   "metadata": {
    "colab": {},
    "colab_type": "code",
    "id": "9YqUtsbXeEMH",
    "outputId": "facd6a12-6550-4eed-f2c4-b939c86e0ba0"
   },
   "outputs": [
    {
     "data": {
      "text/plain": [
       "['I', 'love', 'you']"
      ]
     },
     "execution_count": 137,
     "metadata": {},
     "output_type": "execute_result"
    }
   ],
   "source": [
    "# split a string when space occurs\n",
    "s.split(' ')"
   ]
  },
  {
   "cell_type": "code",
   "execution_count": 139,
   "metadata": {
    "colab": {},
    "colab_type": "code",
    "id": "ggmdC2-HeEMK",
    "outputId": "e0301d9c-eb65-4a62-a479-62700cd040c8"
   },
   "outputs": [
    {
     "data": {
      "text/plain": [
       "['I', 'love', 'you']"
      ]
     },
     "execution_count": 139,
     "metadata": {},
     "output_type": "execute_result"
    }
   ],
   "source": [
    "s.split()  #by default takes \" \""
   ]
  },
  {
   "cell_type": "code",
   "execution_count": 140,
   "metadata": {
    "colab": {},
    "colab_type": "code",
    "id": "D62ilF-3eEMN",
    "outputId": "436e5ecf-e7bd-4fd0-d3a2-0c7793bd68ca"
   },
   "outputs": [
    {
     "data": {
      "text/plain": [
       "['a', ' an', ' the']"
      ]
     },
     "execution_count": 140,
     "metadata": {},
     "output_type": "execute_result"
    }
   ],
   "source": [
    "s2 = 'a, an, the'\n",
    "s2.split(',')"
   ]
  },
  {
   "cell_type": "markdown",
   "metadata": {
    "colab_type": "text",
    "id": "l0Y-B5uIeEMO"
   },
   "source": [
    "**Join or concatenate strings:**"
   ]
  },
  {
   "cell_type": "code",
   "execution_count": 142,
   "metadata": {
    "colab": {},
    "colab_type": "code",
    "id": "MvZUKqyceEMP",
    "outputId": "e34a191f-dc03-453a-fabe-3f729b543c36"
   },
   "outputs": [
    {
     "data": {
      "text/plain": [
       "'I love you'"
      ]
     },
     "execution_count": 142,
     "metadata": {},
     "output_type": "execute_result"
    }
   ],
   "source": [
    "# join a list of strings into one string \n",
    "feel = ['I', 'love', 'you']\n",
    "' '.join(feel)"
   ]
  },
  {
   "cell_type": "code",
   "execution_count": 143,
   "metadata": {
    "colab": {},
    "colab_type": "code",
    "id": "YpqmRkkgeEMQ",
    "outputId": "bafb5b73-0192-4096-fa16-7b6691019a94",
    "scrolled": true
   },
   "outputs": [
    {
     "data": {
      "text/plain": [
       "'The meaning of life is love'"
      ]
     },
     "execution_count": 143,
     "metadata": {},
     "output_type": "execute_result"
    }
   ],
   "source": [
    "# concatenate strings\n",
    "s3 = 'The meaning of life is'\n",
    "s4 = 'love'\n",
    "s3 + ' ' + s4"
   ]
  },
  {
   "cell_type": "markdown",
   "metadata": {
    "colab_type": "text",
    "id": "81FVPTOCeEMT"
   },
   "source": [
    "**Remove whitespace from the start and end of a string:**"
   ]
  },
  {
   "cell_type": "code",
   "execution_count": 144,
   "metadata": {
    "colab": {},
    "colab_type": "code",
    "id": "R3wsE7eGeEMU",
    "outputId": "25801888-4ab5-4249-92de-8b993eb60210"
   },
   "outputs": [
    {
     "data": {
      "text/plain": [
       "'I and You'"
      ]
     },
     "execution_count": 144,
     "metadata": {},
     "output_type": "execute_result"
    }
   ],
   "source": [
    "s5 = ' I and You  '\n",
    "s5.strip()"
   ]
  },
  {
   "cell_type": "markdown",
   "metadata": {
    "colab_type": "text",
    "id": "01KcW9IjeEMV"
   },
   "source": [
    "**String substitutions:**"
   ]
  },
  {
   "cell_type": "code",
   "execution_count": 145,
   "metadata": {
    "colab": {},
    "colab_type": "code",
    "id": "mKoWLKs4eEMX",
    "outputId": "ae526fec-a9bb-4705-fe5b-dd1a57b6da70"
   },
   "outputs": [
    {
     "name": "stdout",
     "output_type": "stream",
     "text": [
      "Oye angry _ bird\n"
     ]
    }
   ],
   "source": [
    "print('Oye {} _ {}'.format('angry', 'bird'))"
   ]
  },
  {
   "cell_type": "markdown",
   "metadata": {
    "colab_type": "text",
    "id": "yEujsfOteEMa"
   },
   "source": [
    "**String formatting :**"
   ]
  },
  {
   "cell_type": "code",
   "execution_count": 146,
   "metadata": {
    "colab": {},
    "colab_type": "code",
    "id": "lePKcVy2eEMa",
    "outputId": "7d4ba5b9-d353-4588-c6ed-c7b6db512eac"
   },
   "outputs": [
    {
     "data": {
      "text/plain": [
       "'pi is 3.14'"
      ]
     },
     "execution_count": 146,
     "metadata": {},
     "output_type": "execute_result"
    }
   ],
   "source": [
    "# use 2 decimal places\n",
    "'pi is {:.2f}'.format(3.14159)"
   ]
  },
  {
   "cell_type": "markdown",
   "metadata": {
    "colab_type": "text",
    "id": "0GfCB14ZeEMb"
   },
   "source": [
    "**Normal strings versus raw strings:**"
   ]
  },
  {
   "cell_type": "code",
   "execution_count": 147,
   "metadata": {
    "colab": {},
    "colab_type": "code",
    "id": "xItT0lH3eEMc",
    "outputId": "f8c610ab-7c05-4485-801a-ecf7adc43771"
   },
   "outputs": [
    {
     "name": "stdout",
     "output_type": "stream",
     "text": [
      "first line\n",
      "second line\n"
     ]
    }
   ],
   "source": [
    "# normal strings allows \\n\n",
    "print('first line\\nsecond line')"
   ]
  },
  {
   "cell_type": "code",
   "execution_count": 148,
   "metadata": {
    "colab": {},
    "colab_type": "code",
    "id": "dprpO2__eEMg",
    "outputId": "c060a38b-20fa-42fe-928a-286cd39566fd"
   },
   "outputs": [
    {
     "name": "stdout",
     "output_type": "stream",
     "text": [
      "first line\\nfirst line\n"
     ]
    }
   ],
   "source": [
    "# raw strings takes as it is\n",
    "print(r'first line\\nfirst line')"
   ]
  },
  {
   "cell_type": "markdown",
   "metadata": {
    "colab_type": "text",
    "id": "1_ZxRyneeEMk"
   },
   "source": [
    "##  Dictionaries\n",
    "\n",
    "- **Dictionary properties:** unordered, iterable, mutable, can contain multiple data types\n",
    "- Made of key-value pairs\n",
    "- Keys must be unique, and can be strings, numbers, or tuples\n",
    "- Values can be any type"
   ]
  },
  {
   "cell_type": "code",
   "execution_count": 149,
   "metadata": {
    "colab": {},
    "colab_type": "code",
    "id": "w6aW-h3_eEMl"
   },
   "outputs": [],
   "source": [
    "# create an empty dictionary (two ways)\n",
    "empty_dict = {}\n",
    "empty_dict = dict()"
   ]
  },
  {
   "cell_type": "code",
   "execution_count": 152,
   "metadata": {
    "colab": {},
    "colab_type": "code",
    "id": "N4Lh0PfEeEMo",
    "outputId": "8ada2d07-452d-4f3e-da48-d08e311bd380"
   },
   "outputs": [
    {
     "data": {
      "text/plain": [
       "{'M': 'D', 'D': 'M'}"
      ]
     },
     "execution_count": 152,
     "metadata": {},
     "output_type": "execute_result"
    }
   ],
   "source": [
    "# create a dictionary (two ways)\n",
    "val = {'M':'D', 'D':'M'}\n",
    "val = dict(M = \"D\" , D = \"M\")\n",
    "val"
   ]
  },
  {
   "cell_type": "code",
   "execution_count": 153,
   "metadata": {
    "colab": {},
    "colab_type": "code",
    "id": "eaVeL3s5eEMp",
    "outputId": "ab0d7371-e7f4-4ebd-8a8f-48fccd728cba"
   },
   "outputs": [
    {
     "data": {
      "text/plain": [
       "{'M': 'D', 'D': 'M', 'DM': 'MD'}"
      ]
     },
     "execution_count": 153,
     "metadata": {},
     "output_type": "execute_result"
    }
   ],
   "source": [
    "# convert a list of tuples into a dictionary\n",
    "list_of_tuples = [('M', 'D'), ('D', 'M'), ('DM', \"MD\")]\n",
    "value = dict(list_of_tuples)\n",
    "value"
   ]
  },
  {
   "cell_type": "markdown",
   "metadata": {
    "colab_type": "text",
    "id": "UdQDDoareEMr"
   },
   "source": [
    "**Examine a dictionary:**"
   ]
  },
  {
   "cell_type": "code",
   "execution_count": 154,
   "metadata": {
    "colab": {},
    "colab_type": "code",
    "id": "um-D1r9teEMr",
    "outputId": "01c6e3ae-eb81-40fa-a464-1317bb5e07e3"
   },
   "outputs": [
    {
     "data": {
      "text/plain": [
       "'MD'"
      ]
     },
     "execution_count": 154,
     "metadata": {},
     "output_type": "execute_result"
    }
   ],
   "source": [
    "# pass a key to return its value\n",
    "value['DM']"
   ]
  },
  {
   "cell_type": "code",
   "execution_count": 155,
   "metadata": {
    "colab": {},
    "colab_type": "code",
    "id": "GKWBKLekeEMt",
    "outputId": "9fb98975-b0ce-4bf9-fb5f-e9440d6e4c4a"
   },
   "outputs": [
    {
     "data": {
      "text/plain": [
       "3"
      ]
     },
     "execution_count": 155,
     "metadata": {},
     "output_type": "execute_result"
    }
   ],
   "source": [
    "# return the number of key-value pairs\n",
    "len(value)"
   ]
  },
  {
   "cell_type": "code",
   "execution_count": 156,
   "metadata": {
    "colab": {},
    "colab_type": "code",
    "id": "RqpiJD2VeEMv",
    "outputId": "974a2aac-a4b1-4405-add5-40d2d27827c2"
   },
   "outputs": [
    {
     "data": {
      "text/plain": [
       "True"
      ]
     },
     "execution_count": 156,
     "metadata": {},
     "output_type": "execute_result"
    }
   ],
   "source": [
    "# check if key exists in dictionary\n",
    "'M' in value"
   ]
  },
  {
   "cell_type": "code",
   "execution_count": 157,
   "metadata": {
    "colab": {},
    "colab_type": "code",
    "id": "-aN8eK1seEMw",
    "outputId": "6d6ef578-49fe-4dc6-991c-41ebb363d1f0"
   },
   "outputs": [
    {
     "data": {
      "text/plain": [
       "False"
      ]
     },
     "execution_count": 157,
     "metadata": {},
     "output_type": "execute_result"
    }
   ],
   "source": [
    "# dictionary values are not checked\n",
    "'MD' in value"
   ]
  },
  {
   "cell_type": "code",
   "execution_count": 158,
   "metadata": {
    "colab": {},
    "colab_type": "code",
    "id": "BmmJMRtVeEMy",
    "outputId": "b21aa673-1781-4544-bdb4-e2a4c314b4d6"
   },
   "outputs": [
    {
     "data": {
      "text/plain": [
       "dict_keys(['M', 'D', 'DM'])"
      ]
     },
     "execution_count": 158,
     "metadata": {},
     "output_type": "execute_result"
    }
   ],
   "source": [
    "# returns a list of keys\n",
    "value.keys()"
   ]
  },
  {
   "cell_type": "code",
   "execution_count": 160,
   "metadata": {
    "colab": {},
    "colab_type": "code",
    "id": "not8MlFgeEM0",
    "outputId": "e58ef78c-da9e-4807-cd42-ddd45ea6adfa"
   },
   "outputs": [
    {
     "data": {
      "text/plain": [
       "dict_values(['D', 'M', 'MD'])"
      ]
     },
     "execution_count": 160,
     "metadata": {},
     "output_type": "execute_result"
    }
   ],
   "source": [
    "# returns a list of values \n",
    "value.values()"
   ]
  },
  {
   "cell_type": "code",
   "execution_count": 161,
   "metadata": {
    "colab": {},
    "colab_type": "code",
    "id": "qgExd5nleEM9",
    "outputId": "8b3d8e9c-f535-4279-a2a5-7266ea037e57"
   },
   "outputs": [
    {
     "data": {
      "text/plain": [
       "dict_items([('M', 'D'), ('D', 'M'), ('DM', 'MD')])"
      ]
     },
     "execution_count": 161,
     "metadata": {},
     "output_type": "execute_result"
    }
   ],
   "source": [
    "# returns a list of key-value pairs\n",
    "value.items()"
   ]
  },
  {
   "cell_type": "markdown",
   "metadata": {
    "colab_type": "text",
    "id": "5tutocP1eENA"
   },
   "source": [
    "**Modify a dictionary (does not return the dictionary):**"
   ]
  },
  {
   "cell_type": "code",
   "execution_count": 162,
   "metadata": {
    "colab": {},
    "colab_type": "code",
    "id": "WJa5o6cyeENB",
    "outputId": "c483d7d0-d5a2-4f80-dc48-ff2d78c45aad"
   },
   "outputs": [
    {
     "data": {
      "text/plain": [
       "{'M': 'D', 'D': 'M', 'DM': 'MD', 'any': 'thing'}"
      ]
     },
     "execution_count": 162,
     "metadata": {},
     "output_type": "execute_result"
    }
   ],
   "source": [
    "# add a new entry\n",
    "value['any'] = 'thing'\n",
    "value"
   ]
  },
  {
   "cell_type": "code",
   "execution_count": 163,
   "metadata": {
    "colab": {},
    "colab_type": "code",
    "id": "PtgdUSvLeENC",
    "outputId": "6cabc80b-c20f-4a9b-90ab-6f73cbbf8b70"
   },
   "outputs": [
    {
     "data": {
      "text/plain": [
       "{'M': 'D', 'D': 'M', 'DM': 'MD', 'any': '1'}"
      ]
     },
     "execution_count": 163,
     "metadata": {},
     "output_type": "execute_result"
    }
   ],
   "source": [
    "# edit an existing entry\n",
    "value['any'] = '1'\n",
    "value"
   ]
  },
  {
   "cell_type": "code",
   "execution_count": 165,
   "metadata": {
    "colab": {},
    "colab_type": "code",
    "id": "vyv3U5SseENF",
    "outputId": "28147975-9ce8-4d14-89f3-8f6f3a34aa2d"
   },
   "outputs": [
    {
     "data": {
      "text/plain": [
       "{'M': 'D', 'D': 'M', 'DM': 'MD'}"
      ]
     },
     "execution_count": 165,
     "metadata": {},
     "output_type": "execute_result"
    }
   ],
   "source": [
    "# delete an entry\n",
    "del value['any']\n",
    "value"
   ]
  },
  {
   "cell_type": "code",
   "execution_count": 167,
   "metadata": {
    "colab": {},
    "colab_type": "code",
    "id": "W2wPiNyIeENH",
    "outputId": "a11c71c3-3be1-4e37-896c-0d7d9ee057a6"
   },
   "outputs": [
    {
     "data": {
      "text/plain": [
       "{'M': 'D', 'D': 'M', 'DM': ['MD', 'MMD']}"
      ]
     },
     "execution_count": 167,
     "metadata": {},
     "output_type": "execute_result"
    }
   ],
   "source": [
    "# dictionary value can be a list\n",
    "value['DM'] = ['MD', 'MMD']\n",
    "value"
   ]
  },
  {
   "cell_type": "code",
   "execution_count": 168,
   "metadata": {
    "colab": {},
    "colab_type": "code",
    "id": "uZw1l559eENK",
    "outputId": "d504c26c-4343-4285-f2e5-21b5db4d2bcb"
   },
   "outputs": [
    {
     "data": {
      "text/plain": [
       "'M'"
      ]
     },
     "execution_count": 168,
     "metadata": {},
     "output_type": "execute_result"
    }
   ],
   "source": [
    "# remove an entry and return the value\n",
    "value.pop('D')"
   ]
  },
  {
   "cell_type": "code",
   "execution_count": 169,
   "metadata": {
    "colab": {},
    "colab_type": "code",
    "id": "pgwxSbeleENL",
    "outputId": "be7eadc1-8963-40d6-b6f1-81e6ad8dfcf2"
   },
   "outputs": [
    {
     "data": {
      "text/plain": [
       "{'M': 'D', 'DM': ['MD', 'MMD'], 'key': 'value', 'second Key': 'have value'}"
      ]
     },
     "execution_count": 169,
     "metadata": {},
     "output_type": "execute_result"
    }
   ],
   "source": [
    "# add multiple entries\n",
    "value.update({'key':'value', 'second Key':'have value'})\n",
    "value"
   ]
  },
  {
   "cell_type": "markdown",
   "metadata": {
    "colab_type": "text",
    "id": "8uQC369WeENQ"
   },
   "source": [
    "**Access values more safely with `get`:**"
   ]
  },
  {
   "cell_type": "code",
   "execution_count": 170,
   "metadata": {
    "colab": {},
    "colab_type": "code",
    "id": "fxmwOIZweENR",
    "outputId": "2e2a0fe8-ea2e-417e-8513-9eb46fca3aed"
   },
   "outputs": [
    {
     "data": {
      "text/plain": [
       "['MD', 'MMD']"
      ]
     },
     "execution_count": 170,
     "metadata": {},
     "output_type": "execute_result"
    }
   ],
   "source": [
    "value['DM']"
   ]
  },
  {
   "cell_type": "code",
   "execution_count": 171,
   "metadata": {
    "colab": {},
    "colab_type": "code",
    "id": "QKiCYFCdeENX",
    "outputId": "ad4934ed-4cb9-4bd5-ad67-10b5c45cc17a"
   },
   "outputs": [
    {
     "data": {
      "text/plain": [
       "['MD', 'MMD']"
      ]
     },
     "execution_count": 171,
     "metadata": {},
     "output_type": "execute_result"
    }
   ],
   "source": [
    "# equivalent to a dictionary lookup\n",
    "value.get('DM')"
   ]
  },
  {
   "cell_type": "code",
   "execution_count": 172,
   "metadata": {
    "colab": {},
    "colab_type": "code",
    "id": "iyIptX_EeENZ"
   },
   "outputs": [
    {
     "ename": "KeyError",
     "evalue": "'some'",
     "output_type": "error",
     "traceback": [
      "\u001b[1;31m---------------------------------------------------------------------------\u001b[0m",
      "\u001b[1;31mKeyError\u001b[0m                                  Traceback (most recent call last)",
      "\u001b[1;32m<ipython-input-172-3c077abe6960>\u001b[0m in \u001b[0;36m<module>\u001b[1;34m\u001b[0m\n\u001b[0;32m      1\u001b[0m \u001b[1;31m# throws error if key is not exists\u001b[0m\u001b[1;33m\u001b[0m\u001b[1;33m\u001b[0m\u001b[1;33m\u001b[0m\u001b[0m\n\u001b[1;32m----> 2\u001b[1;33m \u001b[0mvalue\u001b[0m\u001b[1;33m[\u001b[0m\u001b[1;34m'some'\u001b[0m\u001b[1;33m]\u001b[0m\u001b[1;33m\u001b[0m\u001b[1;33m\u001b[0m\u001b[0m\n\u001b[0m",
      "\u001b[1;31mKeyError\u001b[0m: 'some'"
     ]
    }
   ],
   "source": [
    "# throws error if key is not exists\n",
    "value['some']"
   ]
  },
  {
   "cell_type": "code",
   "execution_count": 173,
   "metadata": {
    "colab": {},
    "colab_type": "code",
    "id": "A2A1AvFmeENd"
   },
   "outputs": [],
   "source": [
    "# return None if not found\n",
    "value.get('some')"
   ]
  },
  {
   "cell_type": "code",
   "execution_count": 174,
   "metadata": {
    "colab": {},
    "colab_type": "code",
    "id": "MPEZqh1HeENh",
    "outputId": "58885471-7ed2-4477-bfef-88f93fdde425"
   },
   "outputs": [
    {
     "data": {
      "text/plain": [
       "'not found'"
      ]
     },
     "execution_count": 174,
     "metadata": {},
     "output_type": "execute_result"
    }
   ],
   "source": [
    "# provide a default return value if not found\n",
    "value.get('some', 'not found')"
   ]
  },
  {
   "cell_type": "markdown",
   "metadata": {
    "colab_type": "text",
    "id": "A4aTGPq7eENk"
   },
   "source": [
    "**Access a list element within a dictionary:**"
   ]
  },
  {
   "cell_type": "code",
   "execution_count": 175,
   "metadata": {
    "colab": {},
    "colab_type": "code",
    "id": "l-RB9K8meENk",
    "outputId": "4a8dc942-9f71-47e7-d02a-b8bdb8444365"
   },
   "outputs": [
    {
     "data": {
      "text/plain": [
       "'MD'"
      ]
     },
     "execution_count": 175,
     "metadata": {},
     "output_type": "execute_result"
    }
   ],
   "source": [
    "value['DM'][0]"
   ]
  },
  {
   "cell_type": "code",
   "execution_count": 176,
   "metadata": {
    "colab": {},
    "colab_type": "code",
    "id": "OuZiNkU1eENo",
    "outputId": "1e4ea382-47bb-40a0-fec9-513e8e8ad3f9"
   },
   "outputs": [
    {
     "data": {
      "text/plain": [
       "{'M': 'D', 'DM': ['MMD'], 'key': 'value', 'second Key': 'have value'}"
      ]
     },
     "execution_count": 176,
     "metadata": {},
     "output_type": "execute_result"
    }
   ],
   "source": [
    "value['DM'].remove('MD')\n",
    "value"
   ]
  },
  {
   "cell_type": "markdown",
   "metadata": {
    "colab_type": "text",
    "id": "7ruCrqvLeENu"
   },
   "source": [
    "**String substitution using a dictionary:**"
   ]
  },
  {
   "cell_type": "code",
   "execution_count": 180,
   "metadata": {
    "colab": {},
    "colab_type": "code",
    "id": "8Wo01WK7eENz",
    "outputId": "f5b7033c-1941-42db-ed69-87804e33ab84"
   },
   "outputs": [
    {
     "data": {
      "text/plain": [
       "'M is life of D'"
      ]
     },
     "execution_count": 180,
     "metadata": {},
     "output_type": "execute_result"
    }
   ],
   "source": [
    "'M is life of %(M)s' % value"
   ]
  },
  {
   "cell_type": "markdown",
   "metadata": {
    "colab_type": "text",
    "id": "zat-3pXueEN2"
   },
   "source": [
    "##  Sets\n",
    "\n",
    "- **Set properties:** unordered, iterable, mutable, can contain multiple data types\n",
    "- Made of unique elements (strings, numbers, or tuples)\n",
    "- Like dictionaries, but with keys only (no values)"
   ]
  },
  {
   "cell_type": "code",
   "execution_count": 181,
   "metadata": {
    "colab": {},
    "colab_type": "code",
    "id": "hVZo-DCeeEN2"
   },
   "outputs": [],
   "source": [
    "# create an empty set\n",
    "empty_set = set()"
   ]
  },
  {
   "cell_type": "code",
   "execution_count": 182,
   "metadata": {
    "colab": {},
    "colab_type": "code",
    "id": "J2Nq54TeeEN6"
   },
   "outputs": [],
   "source": [
    "# create a set directly\n",
    "languages = {'python', 'r', 'java'}"
   ]
  },
  {
   "cell_type": "code",
   "execution_count": 186,
   "metadata": {
    "colab": {},
    "colab_type": "code",
    "id": "kS9kHIWYeEN_"
   },
   "outputs": [],
   "source": [
    "# create a set from a list\n",
    "num = set(['1', 'r', '3'])"
   ]
  },
  {
   "cell_type": "markdown",
   "metadata": {
    "colab_type": "text",
    "id": "nduzgioAeEOA"
   },
   "source": [
    "**Examine a set:**"
   ]
  },
  {
   "cell_type": "code",
   "execution_count": 187,
   "metadata": {
    "colab": {},
    "colab_type": "code",
    "id": "hpIvR7pUeEOA",
    "outputId": "b1839988-9af0-445e-97ff-e3652ee14578"
   },
   "outputs": [
    {
     "data": {
      "text/plain": [
       "3"
      ]
     },
     "execution_count": 187,
     "metadata": {},
     "output_type": "execute_result"
    }
   ],
   "source": [
    "len(languages)"
   ]
  },
  {
   "cell_type": "code",
   "execution_count": 188,
   "metadata": {
    "colab": {},
    "colab_type": "code",
    "id": "J5ScA23DeEOD",
    "outputId": "2e96e5f6-32b4-4bc4-cc03-c1e231345687"
   },
   "outputs": [
    {
     "data": {
      "text/plain": [
       "True"
      ]
     },
     "execution_count": 188,
     "metadata": {},
     "output_type": "execute_result"
    }
   ],
   "source": [
    "'python' in languages"
   ]
  },
  {
   "cell_type": "markdown",
   "metadata": {
    "colab_type": "text",
    "id": "z_5fhU0ZeEOF"
   },
   "source": [
    "**Set operations:**"
   ]
  },
  {
   "cell_type": "code",
   "execution_count": 189,
   "metadata": {
    "colab": {},
    "colab_type": "code",
    "id": "gjufbD5feEOG",
    "outputId": "2db27113-b8ca-4441-cea3-28f200a447c6"
   },
   "outputs": [
    {
     "data": {
      "text/plain": [
       "{'r'}"
      ]
     },
     "execution_count": 189,
     "metadata": {},
     "output_type": "execute_result"
    }
   ],
   "source": [
    "# intersection\n",
    "languages & num"
   ]
  },
  {
   "cell_type": "code",
   "execution_count": 190,
   "metadata": {
    "colab": {},
    "colab_type": "code",
    "id": "r-A-Y1x1eEOL",
    "outputId": "2930b504-5c72-438c-e387-3d6155b16b94"
   },
   "outputs": [
    {
     "data": {
      "text/plain": [
       "{'1', '3', 'java', 'python', 'r'}"
      ]
     },
     "execution_count": 190,
     "metadata": {},
     "output_type": "execute_result"
    }
   ],
   "source": [
    "# union\n",
    "languages | num"
   ]
  },
  {
   "cell_type": "code",
   "execution_count": 191,
   "metadata": {
    "colab": {},
    "colab_type": "code",
    "id": "PS_IDJ7IeEOM",
    "outputId": "144ccfd2-5110-41f3-cf99-b46f4c4e6a6f"
   },
   "outputs": [
    {
     "data": {
      "text/plain": [
       "{'java', 'python'}"
      ]
     },
     "execution_count": 191,
     "metadata": {},
     "output_type": "execute_result"
    }
   ],
   "source": [
    "# set difference\n",
    "languages - num"
   ]
  },
  {
   "cell_type": "code",
   "execution_count": 192,
   "metadata": {
    "colab": {},
    "colab_type": "code",
    "id": "O0XQNkqmeEON",
    "outputId": "f801a2c4-e32e-4639-fbae-536c033cad43"
   },
   "outputs": [
    {
     "data": {
      "text/plain": [
       "{'1', '3'}"
      ]
     },
     "execution_count": 192,
     "metadata": {},
     "output_type": "execute_result"
    }
   ],
   "source": [
    "# set difference\n",
    "num - languages"
   ]
  },
  {
   "cell_type": "markdown",
   "metadata": {
    "colab_type": "text",
    "id": "IE3uiJJUeEOO"
   },
   "source": [
    "**Modify a set (does not return the set):**"
   ]
  },
  {
   "cell_type": "code",
   "execution_count": 193,
   "metadata": {
    "colab": {},
    "colab_type": "code",
    "id": "pWtJ6LMLeEOO",
    "outputId": "8fbaa7e2-04df-40e0-e9e2-59632f4a55c3"
   },
   "outputs": [
    {
     "data": {
      "text/plain": [
       "{'java', 'python', 'r', 'sql'}"
      ]
     },
     "execution_count": 193,
     "metadata": {},
     "output_type": "execute_result"
    }
   ],
   "source": [
    "# add a new element\n",
    "languages.add('sql')\n",
    "languages"
   ]
  },
  {
   "cell_type": "code",
   "execution_count": 194,
   "metadata": {
    "colab": {},
    "colab_type": "code",
    "id": "UQ2NYWKYeEOP",
    "outputId": "46165873-fbdc-464c-84d6-79b037bee1d5"
   },
   "outputs": [
    {
     "data": {
      "text/plain": [
       "{'java', 'python', 'r', 'sql'}"
      ]
     },
     "execution_count": 194,
     "metadata": {},
     "output_type": "execute_result"
    }
   ],
   "source": [
    "# try to add an existing element (ignored, no error)\n",
    "languages.add('r')\n",
    "languages"
   ]
  },
  {
   "cell_type": "code",
   "execution_count": 195,
   "metadata": {
    "colab": {},
    "colab_type": "code",
    "id": "R_arXtAmeEOQ",
    "outputId": "779f604c-0ea0-486c-b8f4-889970e60889"
   },
   "outputs": [
    {
     "data": {
      "text/plain": [
       "{'python', 'r', 'sql'}"
      ]
     },
     "execution_count": 195,
     "metadata": {},
     "output_type": "execute_result"
    }
   ],
   "source": [
    "# remove an element\n",
    "languages.remove('java')\n",
    "languages"
   ]
  },
  {
   "cell_type": "code",
   "execution_count": 196,
   "metadata": {
    "colab": {},
    "colab_type": "code",
    "id": "qkATQ_nMeEOT"
   },
   "outputs": [],
   "source": [
    "# try to remove a non-existing element (this would throw an error)\n",
    "# languages.remove('c')"
   ]
  },
  {
   "cell_type": "code",
   "execution_count": 197,
   "metadata": {
    "colab": {},
    "colab_type": "code",
    "id": "3G-AXPYYeEOU",
    "outputId": "6f681214-cbbb-4c53-b53f-ebe4b2971724"
   },
   "outputs": [
    {
     "data": {
      "text/plain": [
       "{'python', 'r', 'sql'}"
      ]
     },
     "execution_count": 197,
     "metadata": {},
     "output_type": "execute_result"
    }
   ],
   "source": [
    "# remove an element if present, but ignored otherwise\n",
    "languages.discard('c')\n",
    "languages"
   ]
  },
  {
   "cell_type": "code",
   "execution_count": 198,
   "metadata": {
    "colab": {},
    "colab_type": "code",
    "id": "oheGblKeeEOV",
    "outputId": "aec46512-52a9-4304-fdeb-705765a5bbec"
   },
   "outputs": [
    {
     "data": {
      "text/plain": [
       "'sql'"
      ]
     },
     "execution_count": 198,
     "metadata": {},
     "output_type": "execute_result"
    }
   ],
   "source": [
    "# remove and return an arbitrary element\n",
    "languages.pop()"
   ]
  },
  {
   "cell_type": "code",
   "execution_count": 199,
   "metadata": {
    "colab": {},
    "colab_type": "code",
    "id": "XabZMix8eEOV",
    "outputId": "24301c1a-c1dd-4430-b932-a9fae252632d"
   },
   "outputs": [
    {
     "data": {
      "text/plain": [
       "set()"
      ]
     },
     "execution_count": 199,
     "metadata": {},
     "output_type": "execute_result"
    }
   ],
   "source": [
    "# remove all elements\n",
    "languages.clear()\n",
    "languages"
   ]
  },
  {
   "cell_type": "code",
   "execution_count": 200,
   "metadata": {
    "colab": {},
    "colab_type": "code",
    "id": "DtiuPFAyeEOX",
    "outputId": "7c0ff640-12ca-4fc7-ac57-9091f3f5bd0d"
   },
   "outputs": [
    {
     "data": {
      "text/plain": [
       "{'c++', 'go'}"
      ]
     },
     "execution_count": 200,
     "metadata": {},
     "output_type": "execute_result"
    }
   ],
   "source": [
    "# add multiple elements \n",
    "languages.update(['go', 'c++'])\n",
    "languages"
   ]
  },
  {
   "cell_type": "markdown",
   "metadata": {
    "colab_type": "text",
    "id": "dJ7sgSF-eEOY"
   },
   "source": [
    "**Get a sorted list of unique elements from a list:**"
   ]
  },
  {
   "cell_type": "code",
   "execution_count": 201,
   "metadata": {
    "colab": {},
    "colab_type": "code",
    "id": "lcTfrJE4eEOY",
    "outputId": "bf7ac46b-a919-44dc-98a4-511a92dbb167"
   },
   "outputs": [
    {
     "data": {
      "text/plain": [
       "[0, 1, 2, 9]"
      ]
     },
     "execution_count": 201,
     "metadata": {},
     "output_type": "execute_result"
    }
   ],
   "source": [
    "sorted(set([9, 0, 2, 1, 0]))"
   ]
  },
  {
   "cell_type": "markdown",
   "metadata": {
    "colab_type": "text",
    "id": "5C_tHvNGeEPd"
   },
   "source": [
    "# --------------------------------   Happy Learning with happy .... . ....    ---------------------"
   ]
  },
  {
   "cell_type": "markdown",
   "metadata": {},
   "source": [
    "                                     **© 2020 All Rights Reserved to 3xp10it3r**"
   ]
  },
  {
   "cell_type": "code",
   "execution_count": null,
   "metadata": {},
   "outputs": [],
   "source": []
  }
 ],
 "metadata": {
  "colab": {
   "collapsed_sections": [
    "U_N9Ep_weEF9",
    "ujw8NY4beEHD",
    "KCmUjuiZeEIF",
    "VQRC978ieEKe",
    "HCd9_62geELh",
    "1_ZxRyneeEMk"
   ],
   "name": "Basics.ipynb",
   "provenance": []
  },
  "kernelspec": {
   "display_name": "Python 3",
   "language": "python",
   "name": "python3"
  },
  "language_info": {
   "codemirror_mode": {
    "name": "ipython",
    "version": 3
   },
   "file_extension": ".py",
   "mimetype": "text/x-python",
   "name": "python",
   "nbconvert_exporter": "python",
   "pygments_lexer": "ipython3",
   "version": "3.7.4"
  }
 },
 "nbformat": 4,
 "nbformat_minor": 1
}
